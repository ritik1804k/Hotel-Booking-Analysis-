{
 "cells": [
  {
   "cell_type": "code",
   "execution_count": 1,
   "id": "ef4c0ee3",
   "metadata": {
    "_cell_guid": "b1076dfc-b9ad-4769-8c92-a6c4dae69d19",
    "_uuid": "8f2839f25d086af736a60e9eeb907d3b93b6e0e5",
    "execution": {
     "iopub.execute_input": "2024-04-14T12:49:14.445282Z",
     "iopub.status.busy": "2024-04-14T12:49:14.444614Z",
     "iopub.status.idle": "2024-04-14T12:49:15.184649Z",
     "shell.execute_reply": "2024-04-14T12:49:15.183609Z"
    },
    "papermill": {
     "duration": 0.751804,
     "end_time": "2024-04-14T12:49:15.187353",
     "exception": false,
     "start_time": "2024-04-14T12:49:14.435549",
     "status": "completed"
    },
    "tags": []
   },
   "outputs": [
    {
     "name": "stdout",
     "output_type": "stream",
     "text": [
      "/kaggle/input/playground-series-s4e4/sample_submission.csv\n",
      "/kaggle/input/playground-series-s4e4/train.csv\n",
      "/kaggle/input/playground-series-s4e4/test.csv\n"
     ]
    }
   ],
   "source": [
    "# This Python 3 environment comes with many helpful analytics libraries installed\n",
    "# It is defined by the kaggle/python Docker image: https://github.com/kaggle/docker-python\n",
    "# For example, here's several helpful packages to load\n",
    "\n",
    "import numpy as np # linear algebra\n",
    "import pandas as pd # data processing, CSV file I/O (e.g. pd.read_csv)\n",
    "\n",
    "# Input data files are available in the read-only \"../input/\" directory\n",
    "# For example, running this (by clicking run or pressing Shift+Enter) will list all files under the input directory\n",
    "\n",
    "import os\n",
    "for dirname, _, filenames in os.walk('/kaggle/input'):\n",
    "    for filename in filenames:\n",
    "        print(os.path.join(dirname, filename))\n",
    "\n",
    "# You can write up to 20GB to the current directory (/kaggle/working/) that gets preserved as output when you create a version using \"Save & Run All\" \n",
    "# You can also write temporary files to /kaggle/temp/, but they won't be saved outside of the current session"
   ]
  },
  {
   "cell_type": "markdown",
   "id": "f8b92132",
   "metadata": {
    "papermill": {
     "duration": 0.005956,
     "end_time": "2024-04-14T12:49:15.199831",
     "exception": false,
     "start_time": "2024-04-14T12:49:15.193875",
     "status": "completed"
    },
    "tags": []
   },
   "source": [
    "### <u> Objective </u>\n",
    "* ### To predict the age of abalone from various physical measurements\n",
    "\n",
    "### <u> Tasks </u>\n",
    "* ### Validate all the assumptions\n",
    "* ### Compute all the regression evaluation metrics\n",
    "* ### Comment on the best evaluation metrics for this problem\n"
   ]
  },
  {
   "cell_type": "code",
   "execution_count": 2,
   "id": "fb140455",
   "metadata": {
    "execution": {
     "iopub.execute_input": "2024-04-14T12:49:15.214056Z",
     "iopub.status.busy": "2024-04-14T12:49:15.213367Z",
     "iopub.status.idle": "2024-04-14T12:49:16.843069Z",
     "shell.execute_reply": "2024-04-14T12:49:16.841961Z"
    },
    "papermill": {
     "duration": 1.639682,
     "end_time": "2024-04-14T12:49:16.845562",
     "exception": false,
     "start_time": "2024-04-14T12:49:15.205880",
     "status": "completed"
    },
    "tags": []
   },
   "outputs": [
    {
     "name": "stderr",
     "output_type": "stream",
     "text": [
      "/tmp/ipykernel_18/2550962272.py:4: DeprecationWarning: `np.math` is a deprecated alias for the standard library `math` module (Deprecated Numpy 1.25). Replace usages of `np.math` with `math`\n",
      "  from numpy import math\n"
     ]
    }
   ],
   "source": [
    "# Importing the libraries\n",
    "import numpy as np\n",
    "import pandas as pd\n",
    "from numpy import math\n",
    "\n",
    "from sklearn.preprocessing import MinMaxScaler\n",
    "from sklearn.model_selection import train_test_split\n",
    "from sklearn.linear_model import LinearRegression\n",
    "from sklearn.metrics import r2_score\n",
    "from sklearn.metrics import mean_squared_error\n",
    "\n",
    "import matplotlib.pyplot as plt\n",
    "import seaborn as sns"
   ]
  },
  {
   "cell_type": "code",
   "execution_count": 3,
   "id": "8a43b0ac",
   "metadata": {
    "execution": {
     "iopub.execute_input": "2024-04-14T12:49:16.860103Z",
     "iopub.status.busy": "2024-04-14T12:49:16.859733Z",
     "iopub.status.idle": "2024-04-14T12:49:17.093300Z",
     "shell.execute_reply": "2024-04-14T12:49:17.092491Z"
    },
    "papermill": {
     "duration": 0.243426,
     "end_time": "2024-04-14T12:49:17.095591",
     "exception": false,
     "start_time": "2024-04-14T12:49:16.852165",
     "status": "completed"
    },
    "tags": []
   },
   "outputs": [],
   "source": [
    "# Importing the dataset\n",
    "train_data = pd.read_csv('/kaggle/input/playground-series-s4e4/train.csv')\n",
    "test_data = pd.read_csv('/kaggle/input/playground-series-s4e4/test.csv')"
   ]
  },
  {
   "cell_type": "markdown",
   "id": "55b4335e",
   "metadata": {
    "papermill": {
     "duration": 0.006078,
     "end_time": "2024-04-14T12:49:17.108544",
     "exception": false,
     "start_time": "2024-04-14T12:49:17.102466",
     "status": "completed"
    },
    "tags": []
   },
   "source": [
    "### Merge datasets"
   ]
  },
  {
   "cell_type": "code",
   "execution_count": 4,
   "id": "97962945",
   "metadata": {
    "execution": {
     "iopub.execute_input": "2024-04-14T12:49:17.123096Z",
     "iopub.status.busy": "2024-04-14T12:49:17.122488Z",
     "iopub.status.idle": "2024-04-14T12:49:17.138556Z",
     "shell.execute_reply": "2024-04-14T12:49:17.137481Z"
    },
    "papermill": {
     "duration": 0.02595,
     "end_time": "2024-04-14T12:49:17.140847",
     "exception": false,
     "start_time": "2024-04-14T12:49:17.114897",
     "status": "completed"
    },
    "tags": []
   },
   "outputs": [],
   "source": [
    "df=pd.concat([train_data, test_data])"
   ]
  },
  {
   "cell_type": "code",
   "execution_count": 5,
   "id": "cdf1581e",
   "metadata": {
    "execution": {
     "iopub.execute_input": "2024-04-14T12:49:17.155050Z",
     "iopub.status.busy": "2024-04-14T12:49:17.154694Z",
     "iopub.status.idle": "2024-04-14T12:49:17.175136Z",
     "shell.execute_reply": "2024-04-14T12:49:17.174146Z"
    },
    "papermill": {
     "duration": 0.029887,
     "end_time": "2024-04-14T12:49:17.177218",
     "exception": false,
     "start_time": "2024-04-14T12:49:17.147331",
     "status": "completed"
    },
    "tags": []
   },
   "outputs": [
    {
     "data": {
      "text/html": [
       "<div>\n",
       "<style scoped>\n",
       "    .dataframe tbody tr th:only-of-type {\n",
       "        vertical-align: middle;\n",
       "    }\n",
       "\n",
       "    .dataframe tbody tr th {\n",
       "        vertical-align: top;\n",
       "    }\n",
       "\n",
       "    .dataframe thead th {\n",
       "        text-align: right;\n",
       "    }\n",
       "</style>\n",
       "<table border=\"1\" class=\"dataframe\">\n",
       "  <thead>\n",
       "    <tr style=\"text-align: right;\">\n",
       "      <th></th>\n",
       "      <th>id</th>\n",
       "      <th>Sex</th>\n",
       "      <th>Length</th>\n",
       "      <th>Diameter</th>\n",
       "      <th>Height</th>\n",
       "      <th>Whole weight</th>\n",
       "      <th>Whole weight.1</th>\n",
       "      <th>Whole weight.2</th>\n",
       "      <th>Shell weight</th>\n",
       "      <th>Rings</th>\n",
       "    </tr>\n",
       "  </thead>\n",
       "  <tbody>\n",
       "    <tr>\n",
       "      <th>0</th>\n",
       "      <td>0</td>\n",
       "      <td>F</td>\n",
       "      <td>0.550</td>\n",
       "      <td>0.430</td>\n",
       "      <td>0.150</td>\n",
       "      <td>0.7715</td>\n",
       "      <td>0.3285</td>\n",
       "      <td>0.1465</td>\n",
       "      <td>0.2400</td>\n",
       "      <td>11.0</td>\n",
       "    </tr>\n",
       "    <tr>\n",
       "      <th>1</th>\n",
       "      <td>1</td>\n",
       "      <td>F</td>\n",
       "      <td>0.630</td>\n",
       "      <td>0.490</td>\n",
       "      <td>0.145</td>\n",
       "      <td>1.1300</td>\n",
       "      <td>0.4580</td>\n",
       "      <td>0.2765</td>\n",
       "      <td>0.3200</td>\n",
       "      <td>11.0</td>\n",
       "    </tr>\n",
       "    <tr>\n",
       "      <th>2</th>\n",
       "      <td>2</td>\n",
       "      <td>I</td>\n",
       "      <td>0.160</td>\n",
       "      <td>0.110</td>\n",
       "      <td>0.025</td>\n",
       "      <td>0.0210</td>\n",
       "      <td>0.0055</td>\n",
       "      <td>0.0030</td>\n",
       "      <td>0.0050</td>\n",
       "      <td>6.0</td>\n",
       "    </tr>\n",
       "    <tr>\n",
       "      <th>3</th>\n",
       "      <td>3</td>\n",
       "      <td>M</td>\n",
       "      <td>0.595</td>\n",
       "      <td>0.475</td>\n",
       "      <td>0.150</td>\n",
       "      <td>0.9145</td>\n",
       "      <td>0.3755</td>\n",
       "      <td>0.2055</td>\n",
       "      <td>0.2500</td>\n",
       "      <td>10.0</td>\n",
       "    </tr>\n",
       "    <tr>\n",
       "      <th>4</th>\n",
       "      <td>4</td>\n",
       "      <td>I</td>\n",
       "      <td>0.555</td>\n",
       "      <td>0.425</td>\n",
       "      <td>0.130</td>\n",
       "      <td>0.7820</td>\n",
       "      <td>0.3695</td>\n",
       "      <td>0.1600</td>\n",
       "      <td>0.1975</td>\n",
       "      <td>9.0</td>\n",
       "    </tr>\n",
       "  </tbody>\n",
       "</table>\n",
       "</div>"
      ],
      "text/plain": [
       "   id Sex  Length  Diameter  Height  Whole weight  Whole weight.1  \\\n",
       "0   0   F   0.550     0.430   0.150        0.7715          0.3285   \n",
       "1   1   F   0.630     0.490   0.145        1.1300          0.4580   \n",
       "2   2   I   0.160     0.110   0.025        0.0210          0.0055   \n",
       "3   3   M   0.595     0.475   0.150        0.9145          0.3755   \n",
       "4   4   I   0.555     0.425   0.130        0.7820          0.3695   \n",
       "\n",
       "   Whole weight.2  Shell weight  Rings  \n",
       "0          0.1465        0.2400   11.0  \n",
       "1          0.2765        0.3200   11.0  \n",
       "2          0.0030        0.0050    6.0  \n",
       "3          0.2055        0.2500   10.0  \n",
       "4          0.1600        0.1975    9.0  "
      ]
     },
     "execution_count": 5,
     "metadata": {},
     "output_type": "execute_result"
    }
   ],
   "source": [
    "# first overview of the data \n",
    "df.head()"
   ]
  },
  {
   "cell_type": "code",
   "execution_count": 6,
   "id": "a61533b7",
   "metadata": {
    "execution": {
     "iopub.execute_input": "2024-04-14T12:49:17.192974Z",
     "iopub.status.busy": "2024-04-14T12:49:17.192603Z",
     "iopub.status.idle": "2024-04-14T12:49:17.198830Z",
     "shell.execute_reply": "2024-04-14T12:49:17.197936Z"
    },
    "papermill": {
     "duration": 0.015885,
     "end_time": "2024-04-14T12:49:17.200705",
     "exception": false,
     "start_time": "2024-04-14T12:49:17.184820",
     "status": "completed"
    },
    "tags": []
   },
   "outputs": [
    {
     "data": {
      "text/plain": [
       "(151026, 10)"
      ]
     },
     "execution_count": 6,
     "metadata": {},
     "output_type": "execute_result"
    }
   ],
   "source": [
    "df.shape"
   ]
  },
  {
   "cell_type": "code",
   "execution_count": 7,
   "id": "a6d42ad1",
   "metadata": {
    "execution": {
     "iopub.execute_input": "2024-04-14T12:49:17.215524Z",
     "iopub.status.busy": "2024-04-14T12:49:17.215140Z",
     "iopub.status.idle": "2024-04-14T12:49:17.244690Z",
     "shell.execute_reply": "2024-04-14T12:49:17.243301Z"
    },
    "papermill": {
     "duration": 0.039234,
     "end_time": "2024-04-14T12:49:17.246681",
     "exception": false,
     "start_time": "2024-04-14T12:49:17.207447",
     "status": "completed"
    },
    "tags": []
   },
   "outputs": [
    {
     "name": "stdout",
     "output_type": "stream",
     "text": [
      "<class 'pandas.core.frame.DataFrame'>\n",
      "Index: 151026 entries, 0 to 60410\n",
      "Data columns (total 10 columns):\n",
      " #   Column          Non-Null Count   Dtype  \n",
      "---  ------          --------------   -----  \n",
      " 0   id              151026 non-null  int64  \n",
      " 1   Sex             151026 non-null  object \n",
      " 2   Length          151026 non-null  float64\n",
      " 3   Diameter        151026 non-null  float64\n",
      " 4   Height          151026 non-null  float64\n",
      " 5   Whole weight    151026 non-null  float64\n",
      " 6   Whole weight.1  151026 non-null  float64\n",
      " 7   Whole weight.2  151026 non-null  float64\n",
      " 8   Shell weight    151026 non-null  float64\n",
      " 9   Rings           90615 non-null   float64\n",
      "dtypes: float64(8), int64(1), object(1)\n",
      "memory usage: 12.7+ MB\n"
     ]
    }
   ],
   "source": [
    "# getting the information of the dataset\n",
    "df.info()"
   ]
  },
  {
   "cell_type": "code",
   "execution_count": 8,
   "id": "d0b8276e",
   "metadata": {
    "execution": {
     "iopub.execute_input": "2024-04-14T12:49:17.262153Z",
     "iopub.status.busy": "2024-04-14T12:49:17.261840Z",
     "iopub.status.idle": "2024-04-14T12:49:17.360358Z",
     "shell.execute_reply": "2024-04-14T12:49:17.359320Z"
    },
    "papermill": {
     "duration": 0.109198,
     "end_time": "2024-04-14T12:49:17.362696",
     "exception": false,
     "start_time": "2024-04-14T12:49:17.253498",
     "status": "completed"
    },
    "tags": []
   },
   "outputs": [
    {
     "data": {
      "text/html": [
       "<div>\n",
       "<style scoped>\n",
       "    .dataframe tbody tr th:only-of-type {\n",
       "        vertical-align: middle;\n",
       "    }\n",
       "\n",
       "    .dataframe tbody tr th {\n",
       "        vertical-align: top;\n",
       "    }\n",
       "\n",
       "    .dataframe thead th {\n",
       "        text-align: right;\n",
       "    }\n",
       "</style>\n",
       "<table border=\"1\" class=\"dataframe\">\n",
       "  <thead>\n",
       "    <tr style=\"text-align: right;\">\n",
       "      <th></th>\n",
       "      <th>id</th>\n",
       "      <th>Length</th>\n",
       "      <th>Diameter</th>\n",
       "      <th>Height</th>\n",
       "      <th>Whole weight</th>\n",
       "      <th>Whole weight.1</th>\n",
       "      <th>Whole weight.2</th>\n",
       "      <th>Shell weight</th>\n",
       "      <th>Rings</th>\n",
       "    </tr>\n",
       "  </thead>\n",
       "  <tbody>\n",
       "    <tr>\n",
       "      <th>count</th>\n",
       "      <td>151026.000000</td>\n",
       "      <td>151026.000000</td>\n",
       "      <td>151026.000000</td>\n",
       "      <td>151026.000000</td>\n",
       "      <td>151026.000000</td>\n",
       "      <td>151026.000000</td>\n",
       "      <td>151026.000000</td>\n",
       "      <td>151026.000000</td>\n",
       "      <td>90615.000000</td>\n",
       "    </tr>\n",
       "    <tr>\n",
       "      <th>mean</th>\n",
       "      <td>75512.500000</td>\n",
       "      <td>0.517230</td>\n",
       "      <td>0.401792</td>\n",
       "      <td>0.135579</td>\n",
       "      <td>0.789446</td>\n",
       "      <td>0.340958</td>\n",
       "      <td>0.169421</td>\n",
       "      <td>0.225989</td>\n",
       "      <td>9.696794</td>\n",
       "    </tr>\n",
       "    <tr>\n",
       "      <th>std</th>\n",
       "      <td>43597.595215</td>\n",
       "      <td>0.117974</td>\n",
       "      <td>0.097804</td>\n",
       "      <td>0.038075</td>\n",
       "      <td>0.457637</td>\n",
       "      <td>0.204345</td>\n",
       "      <td>0.100833</td>\n",
       "      <td>0.130052</td>\n",
       "      <td>3.176221</td>\n",
       "    </tr>\n",
       "    <tr>\n",
       "      <th>min</th>\n",
       "      <td>0.000000</td>\n",
       "      <td>0.075000</td>\n",
       "      <td>0.055000</td>\n",
       "      <td>0.000000</td>\n",
       "      <td>0.002000</td>\n",
       "      <td>0.001000</td>\n",
       "      <td>0.000500</td>\n",
       "      <td>0.001500</td>\n",
       "      <td>1.000000</td>\n",
       "    </tr>\n",
       "    <tr>\n",
       "      <th>25%</th>\n",
       "      <td>37756.250000</td>\n",
       "      <td>0.445000</td>\n",
       "      <td>0.345000</td>\n",
       "      <td>0.110000</td>\n",
       "      <td>0.419500</td>\n",
       "      <td>0.177500</td>\n",
       "      <td>0.086500</td>\n",
       "      <td>0.120000</td>\n",
       "      <td>8.000000</td>\n",
       "    </tr>\n",
       "    <tr>\n",
       "      <th>50%</th>\n",
       "      <td>75512.500000</td>\n",
       "      <td>0.545000</td>\n",
       "      <td>0.425000</td>\n",
       "      <td>0.140000</td>\n",
       "      <td>0.799500</td>\n",
       "      <td>0.329500</td>\n",
       "      <td>0.166000</td>\n",
       "      <td>0.225000</td>\n",
       "      <td>9.000000</td>\n",
       "    </tr>\n",
       "    <tr>\n",
       "      <th>75%</th>\n",
       "      <td>113268.750000</td>\n",
       "      <td>0.600000</td>\n",
       "      <td>0.470000</td>\n",
       "      <td>0.160000</td>\n",
       "      <td>1.068000</td>\n",
       "      <td>0.463500</td>\n",
       "      <td>0.232500</td>\n",
       "      <td>0.305000</td>\n",
       "      <td>11.000000</td>\n",
       "    </tr>\n",
       "    <tr>\n",
       "      <th>max</th>\n",
       "      <td>151025.000000</td>\n",
       "      <td>0.815000</td>\n",
       "      <td>0.650000</td>\n",
       "      <td>1.130000</td>\n",
       "      <td>2.825500</td>\n",
       "      <td>1.488000</td>\n",
       "      <td>0.760000</td>\n",
       "      <td>1.005000</td>\n",
       "      <td>29.000000</td>\n",
       "    </tr>\n",
       "  </tbody>\n",
       "</table>\n",
       "</div>"
      ],
      "text/plain": [
       "                  id         Length       Diameter         Height  \\\n",
       "count  151026.000000  151026.000000  151026.000000  151026.000000   \n",
       "mean    75512.500000       0.517230       0.401792       0.135579   \n",
       "std     43597.595215       0.117974       0.097804       0.038075   \n",
       "min         0.000000       0.075000       0.055000       0.000000   \n",
       "25%     37756.250000       0.445000       0.345000       0.110000   \n",
       "50%     75512.500000       0.545000       0.425000       0.140000   \n",
       "75%    113268.750000       0.600000       0.470000       0.160000   \n",
       "max    151025.000000       0.815000       0.650000       1.130000   \n",
       "\n",
       "        Whole weight  Whole weight.1  Whole weight.2   Shell weight  \\\n",
       "count  151026.000000   151026.000000   151026.000000  151026.000000   \n",
       "mean        0.789446        0.340958        0.169421       0.225989   \n",
       "std         0.457637        0.204345        0.100833       0.130052   \n",
       "min         0.002000        0.001000        0.000500       0.001500   \n",
       "25%         0.419500        0.177500        0.086500       0.120000   \n",
       "50%         0.799500        0.329500        0.166000       0.225000   \n",
       "75%         1.068000        0.463500        0.232500       0.305000   \n",
       "max         2.825500        1.488000        0.760000       1.005000   \n",
       "\n",
       "              Rings  \n",
       "count  90615.000000  \n",
       "mean       9.696794  \n",
       "std        3.176221  \n",
       "min        1.000000  \n",
       "25%        8.000000  \n",
       "50%        9.000000  \n",
       "75%       11.000000  \n",
       "max       29.000000  "
      ]
     },
     "execution_count": 8,
     "metadata": {},
     "output_type": "execute_result"
    }
   ],
   "source": [
    "df.describe()"
   ]
  },
  {
   "cell_type": "markdown",
   "id": "02a0543d",
   "metadata": {
    "papermill": {
     "duration": 0.006869,
     "end_time": "2024-04-14T12:49:17.376710",
     "exception": false,
     "start_time": "2024-04-14T12:49:17.369841",
     "status": "completed"
    },
    "tags": []
   },
   "source": [
    "We can clearly see that average age of abalone is somewhat around 9 years and the maximum age is 29 year , it has also seen that some of the minimum heights are 0."
   ]
  },
  {
   "cell_type": "code",
   "execution_count": 9,
   "id": "cf78bb27",
   "metadata": {
    "execution": {
     "iopub.execute_input": "2024-04-14T12:49:17.392670Z",
     "iopub.status.busy": "2024-04-14T12:49:17.392283Z",
     "iopub.status.idle": "2024-04-14T12:49:17.424407Z",
     "shell.execute_reply": "2024-04-14T12:49:17.423651Z"
    },
    "papermill": {
     "duration": 0.042748,
     "end_time": "2024-04-14T12:49:17.426490",
     "exception": false,
     "start_time": "2024-04-14T12:49:17.383742",
     "status": "completed"
    },
    "tags": []
   },
   "outputs": [
    {
     "data": {
      "text/html": [
       "<div>\n",
       "<style scoped>\n",
       "    .dataframe tbody tr th:only-of-type {\n",
       "        vertical-align: middle;\n",
       "    }\n",
       "\n",
       "    .dataframe tbody tr th {\n",
       "        vertical-align: top;\n",
       "    }\n",
       "\n",
       "    .dataframe thead th {\n",
       "        text-align: right;\n",
       "    }\n",
       "</style>\n",
       "<table border=\"1\" class=\"dataframe\">\n",
       "  <thead>\n",
       "    <tr style=\"text-align: right;\">\n",
       "      <th></th>\n",
       "      <th>id</th>\n",
       "      <th>Sex</th>\n",
       "      <th>Length</th>\n",
       "      <th>Diameter</th>\n",
       "      <th>Height</th>\n",
       "      <th>Whole weight</th>\n",
       "      <th>Whole weight.1</th>\n",
       "      <th>Whole weight.2</th>\n",
       "      <th>Shell weight</th>\n",
       "      <th>Rings</th>\n",
       "    </tr>\n",
       "  </thead>\n",
       "  <tbody>\n",
       "    <tr>\n",
       "      <th>7025</th>\n",
       "      <td>7025</td>\n",
       "      <td>I</td>\n",
       "      <td>0.315</td>\n",
       "      <td>0.230</td>\n",
       "      <td>0.0</td>\n",
       "      <td>0.1340</td>\n",
       "      <td>0.0545</td>\n",
       "      <td>0.0245</td>\n",
       "      <td>0.3505</td>\n",
       "      <td>8.0</td>\n",
       "    </tr>\n",
       "    <tr>\n",
       "      <th>14208</th>\n",
       "      <td>14208</td>\n",
       "      <td>I</td>\n",
       "      <td>0.430</td>\n",
       "      <td>0.340</td>\n",
       "      <td>0.0</td>\n",
       "      <td>0.3440</td>\n",
       "      <td>0.1880</td>\n",
       "      <td>0.0705</td>\n",
       "      <td>0.1050</td>\n",
       "      <td>8.0</td>\n",
       "    </tr>\n",
       "    <tr>\n",
       "      <th>32078</th>\n",
       "      <td>32078</td>\n",
       "      <td>M</td>\n",
       "      <td>0.470</td>\n",
       "      <td>0.355</td>\n",
       "      <td>0.0</td>\n",
       "      <td>0.5785</td>\n",
       "      <td>0.2965</td>\n",
       "      <td>0.1550</td>\n",
       "      <td>0.1360</td>\n",
       "      <td>7.0</td>\n",
       "    </tr>\n",
       "    <tr>\n",
       "      <th>52324</th>\n",
       "      <td>52324</td>\n",
       "      <td>I</td>\n",
       "      <td>0.315</td>\n",
       "      <td>0.230</td>\n",
       "      <td>0.0</td>\n",
       "      <td>0.1340</td>\n",
       "      <td>0.0530</td>\n",
       "      <td>0.0375</td>\n",
       "      <td>0.3505</td>\n",
       "      <td>7.0</td>\n",
       "    </tr>\n",
       "    <tr>\n",
       "      <th>70295</th>\n",
       "      <td>70295</td>\n",
       "      <td>I</td>\n",
       "      <td>0.430</td>\n",
       "      <td>0.340</td>\n",
       "      <td>0.0</td>\n",
       "      <td>0.4060</td>\n",
       "      <td>0.2035</td>\n",
       "      <td>0.0960</td>\n",
       "      <td>0.1230</td>\n",
       "      <td>7.0</td>\n",
       "    </tr>\n",
       "    <tr>\n",
       "      <th>90295</th>\n",
       "      <td>90295</td>\n",
       "      <td>M</td>\n",
       "      <td>0.430</td>\n",
       "      <td>0.325</td>\n",
       "      <td>0.0</td>\n",
       "      <td>0.3335</td>\n",
       "      <td>0.1350</td>\n",
       "      <td>0.0585</td>\n",
       "      <td>0.1050</td>\n",
       "      <td>10.0</td>\n",
       "    </tr>\n",
       "    <tr>\n",
       "      <th>34067</th>\n",
       "      <td>124682</td>\n",
       "      <td>M</td>\n",
       "      <td>0.560</td>\n",
       "      <td>0.445</td>\n",
       "      <td>0.0</td>\n",
       "      <td>0.8725</td>\n",
       "      <td>0.3050</td>\n",
       "      <td>0.1900</td>\n",
       "      <td>0.3050</td>\n",
       "      <td>NaN</td>\n",
       "    </tr>\n",
       "    <tr>\n",
       "      <th>42004</th>\n",
       "      <td>132619</td>\n",
       "      <td>I</td>\n",
       "      <td>0.270</td>\n",
       "      <td>0.195</td>\n",
       "      <td>0.0</td>\n",
       "      <td>0.0840</td>\n",
       "      <td>0.0250</td>\n",
       "      <td>0.0490</td>\n",
       "      <td>0.0310</td>\n",
       "      <td>NaN</td>\n",
       "    </tr>\n",
       "  </tbody>\n",
       "</table>\n",
       "</div>"
      ],
      "text/plain": [
       "           id Sex  Length  Diameter  Height  Whole weight  Whole weight.1  \\\n",
       "7025     7025   I   0.315     0.230     0.0        0.1340          0.0545   \n",
       "14208   14208   I   0.430     0.340     0.0        0.3440          0.1880   \n",
       "32078   32078   M   0.470     0.355     0.0        0.5785          0.2965   \n",
       "52324   52324   I   0.315     0.230     0.0        0.1340          0.0530   \n",
       "70295   70295   I   0.430     0.340     0.0        0.4060          0.2035   \n",
       "90295   90295   M   0.430     0.325     0.0        0.3335          0.1350   \n",
       "34067  124682   M   0.560     0.445     0.0        0.8725          0.3050   \n",
       "42004  132619   I   0.270     0.195     0.0        0.0840          0.0250   \n",
       "\n",
       "       Whole weight.2  Shell weight  Rings  \n",
       "7025           0.0245        0.3505    8.0  \n",
       "14208          0.0705        0.1050    8.0  \n",
       "32078          0.1550        0.1360    7.0  \n",
       "52324          0.0375        0.3505    7.0  \n",
       "70295          0.0960        0.1230    7.0  \n",
       "90295          0.0585        0.1050   10.0  \n",
       "34067          0.1900        0.3050    NaN  \n",
       "42004          0.0490        0.0310    NaN  "
      ]
     },
     "execution_count": 9,
     "metadata": {},
     "output_type": "execute_result"
    }
   ],
   "source": [
    "# Get all entries where Height is 0\n",
    "zero_height = df.query('Height == 0')\n",
    "zero_height"
   ]
  },
  {
   "cell_type": "code",
   "execution_count": 10,
   "id": "b7e7d40f",
   "metadata": {
    "execution": {
     "iopub.execute_input": "2024-04-14T12:49:17.443017Z",
     "iopub.status.busy": "2024-04-14T12:49:17.442652Z",
     "iopub.status.idle": "2024-04-14T12:49:17.448521Z",
     "shell.execute_reply": "2024-04-14T12:49:17.447512Z"
    },
    "papermill": {
     "duration": 0.016868,
     "end_time": "2024-04-14T12:49:17.450766",
     "exception": false,
     "start_time": "2024-04-14T12:49:17.433898",
     "status": "completed"
    },
    "tags": []
   },
   "outputs": [
    {
     "data": {
      "text/plain": [
       "(8, 10)"
      ]
     },
     "execution_count": 10,
     "metadata": {},
     "output_type": "execute_result"
    }
   ],
   "source": [
    "zero_height.shape"
   ]
  },
  {
   "cell_type": "code",
   "execution_count": 11,
   "id": "f7298deb",
   "metadata": {
    "execution": {
     "iopub.execute_input": "2024-04-14T12:49:17.467774Z",
     "iopub.status.busy": "2024-04-14T12:49:17.466952Z",
     "iopub.status.idle": "2024-04-14T12:49:17.477444Z",
     "shell.execute_reply": "2024-04-14T12:49:17.476302Z"
    },
    "papermill": {
     "duration": 0.021145,
     "end_time": "2024-04-14T12:49:17.479591",
     "exception": false,
     "start_time": "2024-04-14T12:49:17.458446",
     "status": "completed"
    },
    "tags": []
   },
   "outputs": [
    {
     "name": "stdout",
     "output_type": "stream",
     "text": [
      "Mean Height: 0.13557886721491663\n",
      "Median Height: 0.14\n"
     ]
    }
   ],
   "source": [
    "# Get mean and median height for those entires\n",
    "mean_height = df['Height'].mean()\n",
    "median_height = df['Height'].median()\n",
    "\n",
    "print(\"Mean Height:\", mean_height)\n",
    "print(\"Median Height:\", median_height)"
   ]
  },
  {
   "cell_type": "markdown",
   "id": "a9124159",
   "metadata": {
    "papermill": {
     "duration": 0.007123,
     "end_time": "2024-04-14T12:49:17.494212",
     "exception": false,
     "start_time": "2024-04-14T12:49:17.487089",
     "status": "completed"
    },
    "tags": []
   },
   "source": [
    "we can replace all the zero values with the median values."
   ]
  },
  {
   "cell_type": "code",
   "execution_count": 12,
   "id": "40ac172d",
   "metadata": {
    "execution": {
     "iopub.execute_input": "2024-04-14T12:49:17.510615Z",
     "iopub.status.busy": "2024-04-14T12:49:17.510240Z",
     "iopub.status.idle": "2024-04-14T12:49:17.516408Z",
     "shell.execute_reply": "2024-04-14T12:49:17.515587Z"
    },
    "papermill": {
     "duration": 0.016744,
     "end_time": "2024-04-14T12:49:17.518469",
     "exception": false,
     "start_time": "2024-04-14T12:49:17.501725",
     "status": "completed"
    },
    "tags": []
   },
   "outputs": [],
   "source": [
    "# Replace zero values with NaN\n",
    "df['Height'] = df['Height'].replace(0, median_height)"
   ]
  },
  {
   "cell_type": "code",
   "execution_count": 13,
   "id": "3724135b",
   "metadata": {
    "execution": {
     "iopub.execute_input": "2024-04-14T12:49:17.536654Z",
     "iopub.status.busy": "2024-04-14T12:49:17.535987Z",
     "iopub.status.idle": "2024-04-14T12:49:17.542670Z",
     "shell.execute_reply": "2024-04-14T12:49:17.541753Z"
    },
    "papermill": {
     "duration": 0.018609,
     "end_time": "2024-04-14T12:49:17.544517",
     "exception": false,
     "start_time": "2024-04-14T12:49:17.525908",
     "status": "completed"
    },
    "tags": []
   },
   "outputs": [
    {
     "data": {
      "text/plain": [
       "0.004"
      ]
     },
     "execution_count": 13,
     "metadata": {},
     "output_type": "execute_result"
    }
   ],
   "source": [
    "# Confirm zero values are replaced\n",
    "df['Height'].min()"
   ]
  },
  {
   "cell_type": "code",
   "execution_count": 14,
   "id": "dcd8d87e",
   "metadata": {
    "execution": {
     "iopub.execute_input": "2024-04-14T12:49:17.561236Z",
     "iopub.status.busy": "2024-04-14T12:49:17.560861Z",
     "iopub.status.idle": "2024-04-14T12:49:17.576117Z",
     "shell.execute_reply": "2024-04-14T12:49:17.575081Z"
    },
    "papermill": {
     "duration": 0.025781,
     "end_time": "2024-04-14T12:49:17.578075",
     "exception": false,
     "start_time": "2024-04-14T12:49:17.552294",
     "status": "completed"
    },
    "tags": []
   },
   "outputs": [
    {
     "name": "stdout",
     "output_type": "stream",
     "text": [
      "id                    0\n",
      "Sex                   0\n",
      "Length                0\n",
      "Diameter              0\n",
      "Height                0\n",
      "Whole weight          0\n",
      "Whole weight.1        0\n",
      "Whole weight.2        0\n",
      "Shell weight          0\n",
      "Rings             60411\n",
      "dtype: int64\n"
     ]
    }
   ],
   "source": [
    "# Check for missing values\n",
    "print(df.isnull().sum())"
   ]
  },
  {
   "cell_type": "markdown",
   "id": "8954a310",
   "metadata": {
    "papermill": {
     "duration": 0.00731,
     "end_time": "2024-04-14T12:49:17.592944",
     "exception": false,
     "start_time": "2024-04-14T12:49:17.585634",
     "status": "completed"
    },
    "tags": []
   },
   "source": [
    "### Duplicate check"
   ]
  },
  {
   "cell_type": "code",
   "execution_count": 15,
   "id": "197dbd6c",
   "metadata": {
    "execution": {
     "iopub.execute_input": "2024-04-14T12:49:17.609820Z",
     "iopub.status.busy": "2024-04-14T12:49:17.609001Z",
     "iopub.status.idle": "2024-04-14T12:49:17.673736Z",
     "shell.execute_reply": "2024-04-14T12:49:17.672609Z"
    },
    "papermill": {
     "duration": 0.07548,
     "end_time": "2024-04-14T12:49:17.675851",
     "exception": false,
     "start_time": "2024-04-14T12:49:17.600371",
     "status": "completed"
    },
    "tags": []
   },
   "outputs": [
    {
     "name": "stdout",
     "output_type": "stream",
     "text": [
      "All the False value are for non-duplicate rows: False    151026\n",
      "Name: count, dtype: int64\n"
     ]
    }
   ],
   "source": [
    "# Dataset Duplicate Value Count\n",
    "duplicate_rows =  df.duplicated().value_counts()\n",
    "print(f'All the False value are for non-duplicate rows: {duplicate_rows}')"
   ]
  },
  {
   "cell_type": "code",
   "execution_count": 16,
   "id": "9ded2c1a",
   "metadata": {
    "execution": {
     "iopub.execute_input": "2024-04-14T12:49:17.693085Z",
     "iopub.status.busy": "2024-04-14T12:49:17.692711Z",
     "iopub.status.idle": "2024-04-14T12:49:19.595359Z",
     "shell.execute_reply": "2024-04-14T12:49:19.594504Z"
    },
    "papermill": {
     "duration": 1.913713,
     "end_time": "2024-04-14T12:49:19.597467",
     "exception": false,
     "start_time": "2024-04-14T12:49:17.683754",
     "status": "completed"
    },
    "tags": []
   },
   "outputs": [
    {
     "data": {
      "image/png": "[encoded data removed]",
      "text/plain": [
       "<Figure size 640x480 with 2 Axes>"
      ]
     },
     "metadata": {},
     "output_type": "display_data"
    }
   ],
   "source": [
    "# Creating a heatmap of missing values\n",
    "sns.heatmap(df.isnull(), cmap=\"YlGnBu\")\n",
    "plt.show()"
   ]
  },
  {
   "cell_type": "markdown",
   "id": "f061f68a",
   "metadata": {
    "papermill": {
     "duration": 0.008647,
     "end_time": "2024-04-14T12:49:19.614714",
     "exception": false,
     "start_time": "2024-04-14T12:49:19.606067",
     "status": "completed"
    },
    "tags": []
   },
   "source": [
    "Few points on our dataset, so that we might get little intution of what we have done in some above codes:\n",
    "\n",
    "* The size of our data contains 1,51,026 columns & 10 Rows in our dataset.\n",
    "* There are no duplicate rows in our dataframe.\n",
    "* As we have also seen that there are zero null entries in our dataset.\n",
    "\n"
   ]
  },
  {
   "cell_type": "code",
   "execution_count": 17,
   "id": "7fe02cc9",
   "metadata": {
    "execution": {
     "iopub.execute_input": "2024-04-14T12:49:19.634230Z",
     "iopub.status.busy": "2024-04-14T12:49:19.633598Z",
     "iopub.status.idle": "2024-04-14T12:49:19.640359Z",
     "shell.execute_reply": "2024-04-14T12:49:19.639137Z"
    },
    "papermill": {
     "duration": 0.019033,
     "end_time": "2024-04-14T12:49:19.642589",
     "exception": false,
     "start_time": "2024-04-14T12:49:19.623556",
     "status": "completed"
    },
    "tags": []
   },
   "outputs": [
    {
     "data": {
      "text/plain": [
       "Index(['id', 'Sex', 'Length', 'Diameter', 'Height', 'Whole weight',\n",
       "       'Whole weight.1', 'Whole weight.2', 'Shell weight', 'Rings'],\n",
       "      dtype='object')"
      ]
     },
     "execution_count": 17,
     "metadata": {},
     "output_type": "execute_result"
    }
   ],
   "source": [
    "# Dataset Columns\n",
    "#checking features name of our column\n",
    "df.columns"
   ]
  },
  {
   "cell_type": "markdown",
   "id": "00e6378d",
   "metadata": {
    "papermill": {
     "duration": 0.008304,
     "end_time": "2024-04-14T12:49:19.660171",
     "exception": false,
     "start_time": "2024-04-14T12:49:19.651867",
     "status": "completed"
    },
    "tags": []
   },
   "source": [
    "#### Check Unique Values for each variable."
   ]
  },
  {
   "cell_type": "code",
   "execution_count": 18,
   "id": "2fee7a08",
   "metadata": {
    "execution": {
     "iopub.execute_input": "2024-04-14T12:49:19.679279Z",
     "iopub.status.busy": "2024-04-14T12:49:19.678642Z",
     "iopub.status.idle": "2024-04-14T12:49:19.713631Z",
     "shell.execute_reply": "2024-04-14T12:49:19.712509Z"
    },
    "papermill": {
     "duration": 0.047559,
     "end_time": "2024-04-14T12:49:19.716181",
     "exception": false,
     "start_time": "2024-04-14T12:49:19.668622",
     "status": "completed"
    },
    "tags": []
   },
   "outputs": [
    {
     "name": "stdout",
     "output_type": "stream",
     "text": [
      "id : 151026 uniqueness variable(s)\n",
      "Length : 167 uniqueness variable(s)\n",
      "Diameter : 143 uniqueness variable(s)\n",
      "Height : 111 uniqueness variable(s)\n",
      "Whole weight : 3348 uniqueness variable(s)\n",
      "Whole weight.1 : 1885 uniqueness variable(s)\n",
      "Whole weight.2 : 1026 uniqueness variable(s)\n",
      "Shell weight : 1180 uniqueness variable(s)\n",
      "Rings : 28 uniqueness variable(s)\n"
     ]
    }
   ],
   "source": [
    "# Check Unique Values for each variable.\n",
    "numeric = df.select_dtypes(include=[np.number]).columns\n",
    "for num_col in numeric:\n",
    "    print(f\"{num_col} : {df[num_col].nunique()} uniqueness variable(s)\")"
   ]
  },
  {
   "cell_type": "code",
   "execution_count": 19,
   "id": "953380da",
   "metadata": {
    "execution": {
     "iopub.execute_input": "2024-04-14T12:49:19.735869Z",
     "iopub.status.busy": "2024-04-14T12:49:19.734901Z",
     "iopub.status.idle": "2024-04-14T12:49:19.916465Z",
     "shell.execute_reply": "2024-04-14T12:49:19.915232Z"
    },
    "papermill": {
     "duration": 0.193805,
     "end_time": "2024-04-14T12:49:19.918935",
     "exception": false,
     "start_time": "2024-04-14T12:49:19.725130",
     "status": "completed"
    },
    "tags": []
   },
   "outputs": [
    {
     "data": {
      "image/png": "[encoded data removed]",
      "text/plain": [
       "<Figure size 640x480 with 1 Axes>"
      ]
     },
     "metadata": {},
     "output_type": "display_data"
    }
   ],
   "source": [
    "# Outlier detection\n",
    "sns.boxplot(x=df[\"Rings\"])\n",
    "plt.show()"
   ]
  },
  {
   "cell_type": "code",
   "execution_count": 20,
   "id": "b36ca173",
   "metadata": {
    "execution": {
     "iopub.execute_input": "2024-04-14T12:49:19.938880Z",
     "iopub.status.busy": "2024-04-14T12:49:19.938261Z",
     "iopub.status.idle": "2024-04-14T12:49:20.312435Z",
     "shell.execute_reply": "2024-04-14T12:49:20.311305Z"
    },
    "papermill": {
     "duration": 0.38717,
     "end_time": "2024-04-14T12:49:20.315215",
     "exception": false,
     "start_time": "2024-04-14T12:49:19.928045",
     "status": "completed"
    },
    "tags": []
   },
   "outputs": [
    {
     "data": {
      "image/png": "[encoded data removed]",
      "text/plain": [
       "<Figure size 1000x500 with 1 Axes>"
      ]
     },
     "metadata": {},
     "output_type": "display_data"
    }
   ],
   "source": [
    "fig, ax = plt.subplots(figsize=(10,5))\n",
    "\n",
    "df['Rings'].plot(kind='hist', color='blue', ax=ax)\n",
    "ax.set_xlabel('Rings (Age)')\n",
    "ax.set_title('Rings Distribution for Abalone')\n",
    "\n",
    "plt.tight_layout()\n",
    "plt.show()"
   ]
  },
  {
   "cell_type": "markdown",
   "id": "c8efd521",
   "metadata": {
    "papermill": {
     "duration": 0.009081,
     "end_time": "2024-04-14T12:49:20.334251",
     "exception": false,
     "start_time": "2024-04-14T12:49:20.325170",
     "status": "completed"
    },
    "tags": []
   },
   "source": [
    "Having reviewed the graph, it's evident that the optimal range for abalone Rings falls between 8 to 12. While it's uncommon to come across abalones younger than 5 Rings, encountering individuals with up to 20 Rings is not unusual. This visual representation provides valuable insights into the diverse lifespan distribution of abalones, offering a clearer understanding of their age variability."
   ]
  },
  {
   "cell_type": "code",
   "execution_count": null,
   "id": "93b3e135",
   "metadata": {
    "papermill": {
     "duration": 0.009028,
     "end_time": "2024-04-14T12:49:20.352537",
     "exception": false,
     "start_time": "2024-04-14T12:49:20.343509",
     "status": "completed"
    },
    "tags": []
   },
   "outputs": [],
   "source": []
  }
 ],
 "metadata": {
  "kaggle": {
   "accelerator": "none",
   "dataSources": [
    {
     "databundleVersionId": 8096274,
     "sourceId": 72489,
     "sourceType": "competition"
    }
   ],
   "dockerImageVersionId": 30684,
   "isGpuEnabled": false,
   "isInternetEnabled": true,
   "language": "python",
   "sourceType": "notebook"
  },
  "kernelspec": {
   "display_name": "Python 3",
   "language": "python",
   "name": "python3"
  },
  "language_info": {
   "codemirror_mode": {
    "name": "ipython",
    "version": 3
   },
   "file_extension": ".py",
   "mimetype": "text/x-python",
   "name": "python",
   "nbconvert_exporter": "python",
   "pygments_lexer": "ipython3",
   "version": "3.10.13"
  },
  "papermill": {
   "default_parameters": {},
   "duration": 9.164739,
   "end_time": "2024-04-14T12:49:20.985115",
   "environment_variables": {},
   "exception": null,
   "input_path": "__notebook__.ipynb",
   "output_path": "__notebook__.ipynb",
   "parameters": {},
   "start_time": "2024-04-14T12:49:11.820376",
   "version": "2.5.0"
  }
 },
 "nbformat": 4,
 "nbformat_minor": 5
}
