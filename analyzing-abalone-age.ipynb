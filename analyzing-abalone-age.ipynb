{
 "cells": [
  {
   "cell_type": "code",
   "execution_count": 1,
   "id": "eccfedb1",
   "metadata": {
    "_cell_guid": "b1076dfc-b9ad-4769-8c92-a6c4dae69d19",
    "_uuid": "8f2839f25d086af736a60e9eeb907d3b93b6e0e5",
    "execution": {
     "iopub.execute_input": "2024-04-14T06:12:25.159295Z",
     "iopub.status.busy": "2024-04-14T06:12:25.158868Z",
     "iopub.status.idle": "2024-04-14T06:12:25.981641Z",
     "shell.execute_reply": "2024-04-14T06:12:25.980579Z"
    },
    "papermill": {
     "duration": 0.832247,
     "end_time": "2024-04-14T06:12:25.984316",
     "exception": false,
     "start_time": "2024-04-14T06:12:25.152069",
     "status": "completed"
    },
    "tags": []
   },
   "outputs": [
    {
     "name": "stdout",
     "output_type": "stream",
     "text": [
      "/kaggle/input/playground-series-s4e4/sample_submission.csv\n",
      "/kaggle/input/playground-series-s4e4/train.csv\n",
      "/kaggle/input/playground-series-s4e4/test.csv\n"
     ]
    }
   ],
   "source": [
    "# This Python 3 environment comes with many helpful analytics libraries installed\n",
    "# It is defined by the kaggle/python Docker image: https://github.com/kaggle/docker-python\n",
    "# For example, here's several helpful packages to load\n",
    "\n",
    "import numpy as np # linear algebra\n",
    "import pandas as pd # data processing, CSV file I/O (e.g. pd.read_csv)\n",
    "\n",
    "# Input data files are available in the read-only \"../input/\" directory\n",
    "# For example, running this (by clicking run or pressing Shift+Enter) will list all files under the input directory\n",
    "\n",
    "import os\n",
    "for dirname, _, filenames in os.walk('/kaggle/input'):\n",
    "    for filename in filenames:\n",
    "        print(os.path.join(dirname, filename))\n",
    "\n",
    "# You can write up to 20GB to the current directory (/kaggle/working/) that gets preserved as output when you create a version using \"Save & Run All\" \n",
    "# You can also write temporary files to /kaggle/temp/, but they won't be saved outside of the current session"
   ]
  },
  {
   "cell_type": "markdown",
   "id": "632b5a4c",
   "metadata": {
    "papermill": {
     "duration": 0.004534,
     "end_time": "2024-04-14T06:12:25.995266",
     "exception": false,
     "start_time": "2024-04-14T06:12:25.990732",
     "status": "completed"
    },
    "tags": []
   },
   "source": [
    "### <u> Objective </u>\n",
    "* ### To predict the age of abalone from various physical measurements\n",
    "\n",
    "### <u> Tasks </u>\n",
    "* ### Validate all the assumptions\n",
    "* ### Compute all the regression evaluation metrics\n",
    "* ### Comment on the best evaluation metrics for this problem\n"
   ]
  },
  {
   "cell_type": "code",
   "execution_count": 2,
   "id": "8094a963",
   "metadata": {
    "execution": {
     "iopub.execute_input": "2024-04-14T06:12:26.007438Z",
     "iopub.status.busy": "2024-04-14T06:12:26.006515Z",
     "iopub.status.idle": "2024-04-14T06:12:27.376406Z",
     "shell.execute_reply": "2024-04-14T06:12:27.375434Z"
    },
    "papermill": {
     "duration": 1.378877,
     "end_time": "2024-04-14T06:12:27.378762",
     "exception": false,
     "start_time": "2024-04-14T06:12:25.999885",
     "status": "completed"
    },
    "tags": []
   },
   "outputs": [
    {
     "name": "stderr",
     "output_type": "stream",
     "text": [
      "/tmp/ipykernel_18/3730735796.py:4: DeprecationWarning: `np.math` is a deprecated alias for the standard library `math` module (Deprecated Numpy 1.25). Replace usages of `np.math` with `math`\n",
      "  from numpy import math\n"
     ]
    }
   ],
   "source": [
    "# Importing the libraries\n",
    "import numpy as np\n",
    "import pandas as pd\n",
    "from numpy import math\n",
    "\n",
    "from sklearn.preprocessing import MinMaxScaler\n",
    "from sklearn.model_selection import train_test_split\n",
    "from sklearn.linear_model import LinearRegression\n",
    "from sklearn.metrics import r2_score\n",
    "from sklearn.metrics import mean_squared_error\n",
    "\n",
    "import matplotlib.pyplot as plt"
   ]
  },
  {
   "cell_type": "code",
   "execution_count": 3,
   "id": "9ef02f6d",
   "metadata": {
    "execution": {
     "iopub.execute_input": "2024-04-14T06:12:27.390519Z",
     "iopub.status.busy": "2024-04-14T06:12:27.389627Z",
     "iopub.status.idle": "2024-04-14T06:12:27.619124Z",
     "shell.execute_reply": "2024-04-14T06:12:27.617934Z"
    },
    "papermill": {
     "duration": 0.237806,
     "end_time": "2024-04-14T06:12:27.621456",
     "exception": false,
     "start_time": "2024-04-14T06:12:27.383650",
     "status": "completed"
    },
    "tags": []
   },
   "outputs": [],
   "source": [
    "# Importing the dataset\n",
    "train_data = pd.read_csv('/kaggle/input/playground-series-s4e4/train.csv')\n",
    "test_data = pd.read_csv('/kaggle/input/playground-series-s4e4/test.csv')"
   ]
  },
  {
   "cell_type": "markdown",
   "id": "a3ce74c8",
   "metadata": {
    "papermill": {
     "duration": 0.004561,
     "end_time": "2024-04-14T06:12:27.630976",
     "exception": false,
     "start_time": "2024-04-14T06:12:27.626415",
     "status": "completed"
    },
    "tags": []
   },
   "source": [
    "### Merge datasets"
   ]
  },
  {
   "cell_type": "code",
   "execution_count": 4,
   "id": "9be389ee",
   "metadata": {
    "execution": {
     "iopub.execute_input": "2024-04-14T06:12:27.642526Z",
     "iopub.status.busy": "2024-04-14T06:12:27.641434Z",
     "iopub.status.idle": "2024-04-14T06:12:27.659814Z",
     "shell.execute_reply": "2024-04-14T06:12:27.658610Z"
    },
    "papermill": {
     "duration": 0.026677,
     "end_time": "2024-04-14T06:12:27.662244",
     "exception": false,
     "start_time": "2024-04-14T06:12:27.635567",
     "status": "completed"
    },
    "tags": []
   },
   "outputs": [],
   "source": [
    "df=pd.concat([train_data, test_data])"
   ]
  },
  {
   "cell_type": "code",
   "execution_count": 5,
   "id": "a3b5a492",
   "metadata": {
    "execution": {
     "iopub.execute_input": "2024-04-14T06:12:27.673260Z",
     "iopub.status.busy": "2024-04-14T06:12:27.672882Z",
     "iopub.status.idle": "2024-04-14T06:12:27.694500Z",
     "shell.execute_reply": "2024-04-14T06:12:27.693397Z"
    },
    "papermill": {
     "duration": 0.029662,
     "end_time": "2024-04-14T06:12:27.696739",
     "exception": false,
     "start_time": "2024-04-14T06:12:27.667077",
     "status": "completed"
    },
    "tags": []
   },
   "outputs": [
    {
     "data": {
      "text/html": [
       "<div>\n",
       "<style scoped>\n",
       "    .dataframe tbody tr th:only-of-type {\n",
       "        vertical-align: middle;\n",
       "    }\n",
       "\n",
       "    .dataframe tbody tr th {\n",
       "        vertical-align: top;\n",
       "    }\n",
       "\n",
       "    .dataframe thead th {\n",
       "        text-align: right;\n",
       "    }\n",
       "</style>\n",
       "<table border=\"1\" class=\"dataframe\">\n",
       "  <thead>\n",
       "    <tr style=\"text-align: right;\">\n",
       "      <th></th>\n",
       "      <th>id</th>\n",
       "      <th>Sex</th>\n",
       "      <th>Length</th>\n",
       "      <th>Diameter</th>\n",
       "      <th>Height</th>\n",
       "      <th>Whole weight</th>\n",
       "      <th>Whole weight.1</th>\n",
       "      <th>Whole weight.2</th>\n",
       "      <th>Shell weight</th>\n",
       "      <th>Rings</th>\n",
       "    </tr>\n",
       "  </thead>\n",
       "  <tbody>\n",
       "    <tr>\n",
       "      <th>0</th>\n",
       "      <td>0</td>\n",
       "      <td>F</td>\n",
       "      <td>0.550</td>\n",
       "      <td>0.430</td>\n",
       "      <td>0.150</td>\n",
       "      <td>0.7715</td>\n",
       "      <td>0.3285</td>\n",
       "      <td>0.1465</td>\n",
       "      <td>0.2400</td>\n",
       "      <td>11.0</td>\n",
       "    </tr>\n",
       "    <tr>\n",
       "      <th>1</th>\n",
       "      <td>1</td>\n",
       "      <td>F</td>\n",
       "      <td>0.630</td>\n",
       "      <td>0.490</td>\n",
       "      <td>0.145</td>\n",
       "      <td>1.1300</td>\n",
       "      <td>0.4580</td>\n",
       "      <td>0.2765</td>\n",
       "      <td>0.3200</td>\n",
       "      <td>11.0</td>\n",
       "    </tr>\n",
       "    <tr>\n",
       "      <th>2</th>\n",
       "      <td>2</td>\n",
       "      <td>I</td>\n",
       "      <td>0.160</td>\n",
       "      <td>0.110</td>\n",
       "      <td>0.025</td>\n",
       "      <td>0.0210</td>\n",
       "      <td>0.0055</td>\n",
       "      <td>0.0030</td>\n",
       "      <td>0.0050</td>\n",
       "      <td>6.0</td>\n",
       "    </tr>\n",
       "    <tr>\n",
       "      <th>3</th>\n",
       "      <td>3</td>\n",
       "      <td>M</td>\n",
       "      <td>0.595</td>\n",
       "      <td>0.475</td>\n",
       "      <td>0.150</td>\n",
       "      <td>0.9145</td>\n",
       "      <td>0.3755</td>\n",
       "      <td>0.2055</td>\n",
       "      <td>0.2500</td>\n",
       "      <td>10.0</td>\n",
       "    </tr>\n",
       "    <tr>\n",
       "      <th>4</th>\n",
       "      <td>4</td>\n",
       "      <td>I</td>\n",
       "      <td>0.555</td>\n",
       "      <td>0.425</td>\n",
       "      <td>0.130</td>\n",
       "      <td>0.7820</td>\n",
       "      <td>0.3695</td>\n",
       "      <td>0.1600</td>\n",
       "      <td>0.1975</td>\n",
       "      <td>9.0</td>\n",
       "    </tr>\n",
       "  </tbody>\n",
       "</table>\n",
       "</div>"
      ],
      "text/plain": [
       "   id Sex  Length  Diameter  Height  Whole weight  Whole weight.1  \\\n",
       "0   0   F   0.550     0.430   0.150        0.7715          0.3285   \n",
       "1   1   F   0.630     0.490   0.145        1.1300          0.4580   \n",
       "2   2   I   0.160     0.110   0.025        0.0210          0.0055   \n",
       "3   3   M   0.595     0.475   0.150        0.9145          0.3755   \n",
       "4   4   I   0.555     0.425   0.130        0.7820          0.3695   \n",
       "\n",
       "   Whole weight.2  Shell weight  Rings  \n",
       "0          0.1465        0.2400   11.0  \n",
       "1          0.2765        0.3200   11.0  \n",
       "2          0.0030        0.0050    6.0  \n",
       "3          0.2055        0.2500   10.0  \n",
       "4          0.1600        0.1975    9.0  "
      ]
     },
     "execution_count": 5,
     "metadata": {},
     "output_type": "execute_result"
    }
   ],
   "source": [
    "# first overview of the data \n",
    "df.head()"
   ]
  },
  {
   "cell_type": "code",
   "execution_count": 6,
   "id": "d0e387f6",
   "metadata": {
    "execution": {
     "iopub.execute_input": "2024-04-14T06:12:27.708619Z",
     "iopub.status.busy": "2024-04-14T06:12:27.707864Z",
     "iopub.status.idle": "2024-04-14T06:12:27.714687Z",
     "shell.execute_reply": "2024-04-14T06:12:27.713565Z"
    },
    "papermill": {
     "duration": 0.015145,
     "end_time": "2024-04-14T06:12:27.716894",
     "exception": false,
     "start_time": "2024-04-14T06:12:27.701749",
     "status": "completed"
    },
    "tags": []
   },
   "outputs": [
    {
     "data": {
      "text/plain": [
       "(151026, 10)"
      ]
     },
     "execution_count": 6,
     "metadata": {},
     "output_type": "execute_result"
    }
   ],
   "source": [
    "df.shape"
   ]
  },
  {
   "cell_type": "code",
   "execution_count": 7,
   "id": "7c3955b5",
   "metadata": {
    "execution": {
     "iopub.execute_input": "2024-04-14T06:12:27.728874Z",
     "iopub.status.busy": "2024-04-14T06:12:27.728468Z",
     "iopub.status.idle": "2024-04-14T06:12:27.763358Z",
     "shell.execute_reply": "2024-04-14T06:12:27.761507Z"
    },
    "papermill": {
     "duration": 0.043877,
     "end_time": "2024-04-14T06:12:27.765805",
     "exception": false,
     "start_time": "2024-04-14T06:12:27.721928",
     "status": "completed"
    },
    "tags": []
   },
   "outputs": [
    {
     "name": "stdout",
     "output_type": "stream",
     "text": [
      "<class 'pandas.core.frame.DataFrame'>\n",
      "Index: 151026 entries, 0 to 60410\n",
      "Data columns (total 10 columns):\n",
      " #   Column          Non-Null Count   Dtype  \n",
      "---  ------          --------------   -----  \n",
      " 0   id              151026 non-null  int64  \n",
      " 1   Sex             151026 non-null  object \n",
      " 2   Length          151026 non-null  float64\n",
      " 3   Diameter        151026 non-null  float64\n",
      " 4   Height          151026 non-null  float64\n",
      " 5   Whole weight    151026 non-null  float64\n",
      " 6   Whole weight.1  151026 non-null  float64\n",
      " 7   Whole weight.2  151026 non-null  float64\n",
      " 8   Shell weight    151026 non-null  float64\n",
      " 9   Rings           90615 non-null   float64\n",
      "dtypes: float64(8), int64(1), object(1)\n",
      "memory usage: 12.7+ MB\n"
     ]
    }
   ],
   "source": [
    "# getting the information of the dataset\n",
    "df.info()"
   ]
  },
  {
   "cell_type": "code",
   "execution_count": 8,
   "id": "830936f6",
   "metadata": {
    "execution": {
     "iopub.execute_input": "2024-04-14T06:12:27.777704Z",
     "iopub.status.busy": "2024-04-14T06:12:27.777346Z",
     "iopub.status.idle": "2024-04-14T06:12:27.878657Z",
     "shell.execute_reply": "2024-04-14T06:12:27.877640Z"
    },
    "papermill": {
     "duration": 0.109896,
     "end_time": "2024-04-14T06:12:27.881029",
     "exception": false,
     "start_time": "2024-04-14T06:12:27.771133",
     "status": "completed"
    },
    "tags": []
   },
   "outputs": [
    {
     "data": {
      "text/html": [
       "<div>\n",
       "<style scoped>\n",
       "    .dataframe tbody tr th:only-of-type {\n",
       "        vertical-align: middle;\n",
       "    }\n",
       "\n",
       "    .dataframe tbody tr th {\n",
       "        vertical-align: top;\n",
       "    }\n",
       "\n",
       "    .dataframe thead th {\n",
       "        text-align: right;\n",
       "    }\n",
       "</style>\n",
       "<table border=\"1\" class=\"dataframe\">\n",
       "  <thead>\n",
       "    <tr style=\"text-align: right;\">\n",
       "      <th></th>\n",
       "      <th>id</th>\n",
       "      <th>Length</th>\n",
       "      <th>Diameter</th>\n",
       "      <th>Height</th>\n",
       "      <th>Whole weight</th>\n",
       "      <th>Whole weight.1</th>\n",
       "      <th>Whole weight.2</th>\n",
       "      <th>Shell weight</th>\n",
       "      <th>Rings</th>\n",
       "    </tr>\n",
       "  </thead>\n",
       "  <tbody>\n",
       "    <tr>\n",
       "      <th>count</th>\n",
       "      <td>151026.000000</td>\n",
       "      <td>151026.000000</td>\n",
       "      <td>151026.000000</td>\n",
       "      <td>151026.000000</td>\n",
       "      <td>151026.000000</td>\n",
       "      <td>151026.000000</td>\n",
       "      <td>151026.000000</td>\n",
       "      <td>151026.000000</td>\n",
       "      <td>90615.000000</td>\n",
       "    </tr>\n",
       "    <tr>\n",
       "      <th>mean</th>\n",
       "      <td>75512.500000</td>\n",
       "      <td>0.517230</td>\n",
       "      <td>0.401792</td>\n",
       "      <td>0.135579</td>\n",
       "      <td>0.789446</td>\n",
       "      <td>0.340958</td>\n",
       "      <td>0.169421</td>\n",
       "      <td>0.225989</td>\n",
       "      <td>9.696794</td>\n",
       "    </tr>\n",
       "    <tr>\n",
       "      <th>std</th>\n",
       "      <td>43597.595215</td>\n",
       "      <td>0.117974</td>\n",
       "      <td>0.097804</td>\n",
       "      <td>0.038075</td>\n",
       "      <td>0.457637</td>\n",
       "      <td>0.204345</td>\n",
       "      <td>0.100833</td>\n",
       "      <td>0.130052</td>\n",
       "      <td>3.176221</td>\n",
       "    </tr>\n",
       "    <tr>\n",
       "      <th>min</th>\n",
       "      <td>0.000000</td>\n",
       "      <td>0.075000</td>\n",
       "      <td>0.055000</td>\n",
       "      <td>0.000000</td>\n",
       "      <td>0.002000</td>\n",
       "      <td>0.001000</td>\n",
       "      <td>0.000500</td>\n",
       "      <td>0.001500</td>\n",
       "      <td>1.000000</td>\n",
       "    </tr>\n",
       "    <tr>\n",
       "      <th>25%</th>\n",
       "      <td>37756.250000</td>\n",
       "      <td>0.445000</td>\n",
       "      <td>0.345000</td>\n",
       "      <td>0.110000</td>\n",
       "      <td>0.419500</td>\n",
       "      <td>0.177500</td>\n",
       "      <td>0.086500</td>\n",
       "      <td>0.120000</td>\n",
       "      <td>8.000000</td>\n",
       "    </tr>\n",
       "    <tr>\n",
       "      <th>50%</th>\n",
       "      <td>75512.500000</td>\n",
       "      <td>0.545000</td>\n",
       "      <td>0.425000</td>\n",
       "      <td>0.140000</td>\n",
       "      <td>0.799500</td>\n",
       "      <td>0.329500</td>\n",
       "      <td>0.166000</td>\n",
       "      <td>0.225000</td>\n",
       "      <td>9.000000</td>\n",
       "    </tr>\n",
       "    <tr>\n",
       "      <th>75%</th>\n",
       "      <td>113268.750000</td>\n",
       "      <td>0.600000</td>\n",
       "      <td>0.470000</td>\n",
       "      <td>0.160000</td>\n",
       "      <td>1.068000</td>\n",
       "      <td>0.463500</td>\n",
       "      <td>0.232500</td>\n",
       "      <td>0.305000</td>\n",
       "      <td>11.000000</td>\n",
       "    </tr>\n",
       "    <tr>\n",
       "      <th>max</th>\n",
       "      <td>151025.000000</td>\n",
       "      <td>0.815000</td>\n",
       "      <td>0.650000</td>\n",
       "      <td>1.130000</td>\n",
       "      <td>2.825500</td>\n",
       "      <td>1.488000</td>\n",
       "      <td>0.760000</td>\n",
       "      <td>1.005000</td>\n",
       "      <td>29.000000</td>\n",
       "    </tr>\n",
       "  </tbody>\n",
       "</table>\n",
       "</div>"
      ],
      "text/plain": [
       "                  id         Length       Diameter         Height  \\\n",
       "count  151026.000000  151026.000000  151026.000000  151026.000000   \n",
       "mean    75512.500000       0.517230       0.401792       0.135579   \n",
       "std     43597.595215       0.117974       0.097804       0.038075   \n",
       "min         0.000000       0.075000       0.055000       0.000000   \n",
       "25%     37756.250000       0.445000       0.345000       0.110000   \n",
       "50%     75512.500000       0.545000       0.425000       0.140000   \n",
       "75%    113268.750000       0.600000       0.470000       0.160000   \n",
       "max    151025.000000       0.815000       0.650000       1.130000   \n",
       "\n",
       "        Whole weight  Whole weight.1  Whole weight.2   Shell weight  \\\n",
       "count  151026.000000   151026.000000   151026.000000  151026.000000   \n",
       "mean        0.789446        0.340958        0.169421       0.225989   \n",
       "std         0.457637        0.204345        0.100833       0.130052   \n",
       "min         0.002000        0.001000        0.000500       0.001500   \n",
       "25%         0.419500        0.177500        0.086500       0.120000   \n",
       "50%         0.799500        0.329500        0.166000       0.225000   \n",
       "75%         1.068000        0.463500        0.232500       0.305000   \n",
       "max         2.825500        1.488000        0.760000       1.005000   \n",
       "\n",
       "              Rings  \n",
       "count  90615.000000  \n",
       "mean       9.696794  \n",
       "std        3.176221  \n",
       "min        1.000000  \n",
       "25%        8.000000  \n",
       "50%        9.000000  \n",
       "75%       11.000000  \n",
       "max       29.000000  "
      ]
     },
     "execution_count": 8,
     "metadata": {},
     "output_type": "execute_result"
    }
   ],
   "source": [
    "df.describe()"
   ]
  },
  {
   "cell_type": "markdown",
   "id": "200bfe27",
   "metadata": {
    "papermill": {
     "duration": 0.005203,
     "end_time": "2024-04-14T06:12:27.891886",
     "exception": false,
     "start_time": "2024-04-14T06:12:27.886683",
     "status": "completed"
    },
    "tags": []
   },
   "source": [
    "We can clearly see that average age of abalone is somewhat around 9 years and the maximum age is 29 year , it has also seen that some of the minimum heights are 0."
   ]
  },
  {
   "cell_type": "code",
   "execution_count": 9,
   "id": "a5b646c4",
   "metadata": {
    "execution": {
     "iopub.execute_input": "2024-04-14T06:12:27.905597Z",
     "iopub.status.busy": "2024-04-14T06:12:27.905201Z",
     "iopub.status.idle": "2024-04-14T06:12:27.932901Z",
     "shell.execute_reply": "2024-04-14T06:12:27.931627Z"
    },
    "papermill": {
     "duration": 0.038318,
     "end_time": "2024-04-14T06:12:27.935760",
     "exception": false,
     "start_time": "2024-04-14T06:12:27.897442",
     "status": "completed"
    },
    "tags": []
   },
   "outputs": [
    {
     "data": {
      "text/html": [
       "<div>\n",
       "<style scoped>\n",
       "    .dataframe tbody tr th:only-of-type {\n",
       "        vertical-align: middle;\n",
       "    }\n",
       "\n",
       "    .dataframe tbody tr th {\n",
       "        vertical-align: top;\n",
       "    }\n",
       "\n",
       "    .dataframe thead th {\n",
       "        text-align: right;\n",
       "    }\n",
       "</style>\n",
       "<table border=\"1\" class=\"dataframe\">\n",
       "  <thead>\n",
       "    <tr style=\"text-align: right;\">\n",
       "      <th></th>\n",
       "      <th>id</th>\n",
       "      <th>Sex</th>\n",
       "      <th>Length</th>\n",
       "      <th>Diameter</th>\n",
       "      <th>Height</th>\n",
       "      <th>Whole weight</th>\n",
       "      <th>Whole weight.1</th>\n",
       "      <th>Whole weight.2</th>\n",
       "      <th>Shell weight</th>\n",
       "      <th>Rings</th>\n",
       "    </tr>\n",
       "  </thead>\n",
       "  <tbody>\n",
       "    <tr>\n",
       "      <th>7025</th>\n",
       "      <td>7025</td>\n",
       "      <td>I</td>\n",
       "      <td>0.315</td>\n",
       "      <td>0.230</td>\n",
       "      <td>0.0</td>\n",
       "      <td>0.1340</td>\n",
       "      <td>0.0545</td>\n",
       "      <td>0.0245</td>\n",
       "      <td>0.3505</td>\n",
       "      <td>8.0</td>\n",
       "    </tr>\n",
       "    <tr>\n",
       "      <th>14208</th>\n",
       "      <td>14208</td>\n",
       "      <td>I</td>\n",
       "      <td>0.430</td>\n",
       "      <td>0.340</td>\n",
       "      <td>0.0</td>\n",
       "      <td>0.3440</td>\n",
       "      <td>0.1880</td>\n",
       "      <td>0.0705</td>\n",
       "      <td>0.1050</td>\n",
       "      <td>8.0</td>\n",
       "    </tr>\n",
       "    <tr>\n",
       "      <th>32078</th>\n",
       "      <td>32078</td>\n",
       "      <td>M</td>\n",
       "      <td>0.470</td>\n",
       "      <td>0.355</td>\n",
       "      <td>0.0</td>\n",
       "      <td>0.5785</td>\n",
       "      <td>0.2965</td>\n",
       "      <td>0.1550</td>\n",
       "      <td>0.1360</td>\n",
       "      <td>7.0</td>\n",
       "    </tr>\n",
       "    <tr>\n",
       "      <th>52324</th>\n",
       "      <td>52324</td>\n",
       "      <td>I</td>\n",
       "      <td>0.315</td>\n",
       "      <td>0.230</td>\n",
       "      <td>0.0</td>\n",
       "      <td>0.1340</td>\n",
       "      <td>0.0530</td>\n",
       "      <td>0.0375</td>\n",
       "      <td>0.3505</td>\n",
       "      <td>7.0</td>\n",
       "    </tr>\n",
       "    <tr>\n",
       "      <th>70295</th>\n",
       "      <td>70295</td>\n",
       "      <td>I</td>\n",
       "      <td>0.430</td>\n",
       "      <td>0.340</td>\n",
       "      <td>0.0</td>\n",
       "      <td>0.4060</td>\n",
       "      <td>0.2035</td>\n",
       "      <td>0.0960</td>\n",
       "      <td>0.1230</td>\n",
       "      <td>7.0</td>\n",
       "    </tr>\n",
       "    <tr>\n",
       "      <th>90295</th>\n",
       "      <td>90295</td>\n",
       "      <td>M</td>\n",
       "      <td>0.430</td>\n",
       "      <td>0.325</td>\n",
       "      <td>0.0</td>\n",
       "      <td>0.3335</td>\n",
       "      <td>0.1350</td>\n",
       "      <td>0.0585</td>\n",
       "      <td>0.1050</td>\n",
       "      <td>10.0</td>\n",
       "    </tr>\n",
       "    <tr>\n",
       "      <th>34067</th>\n",
       "      <td>124682</td>\n",
       "      <td>M</td>\n",
       "      <td>0.560</td>\n",
       "      <td>0.445</td>\n",
       "      <td>0.0</td>\n",
       "      <td>0.8725</td>\n",
       "      <td>0.3050</td>\n",
       "      <td>0.1900</td>\n",
       "      <td>0.3050</td>\n",
       "      <td>NaN</td>\n",
       "    </tr>\n",
       "    <tr>\n",
       "      <th>42004</th>\n",
       "      <td>132619</td>\n",
       "      <td>I</td>\n",
       "      <td>0.270</td>\n",
       "      <td>0.195</td>\n",
       "      <td>0.0</td>\n",
       "      <td>0.0840</td>\n",
       "      <td>0.0250</td>\n",
       "      <td>0.0490</td>\n",
       "      <td>0.0310</td>\n",
       "      <td>NaN</td>\n",
       "    </tr>\n",
       "  </tbody>\n",
       "</table>\n",
       "</div>"
      ],
      "text/plain": [
       "           id Sex  Length  Diameter  Height  Whole weight  Whole weight.1  \\\n",
       "7025     7025   I   0.315     0.230     0.0        0.1340          0.0545   \n",
       "14208   14208   I   0.430     0.340     0.0        0.3440          0.1880   \n",
       "32078   32078   M   0.470     0.355     0.0        0.5785          0.2965   \n",
       "52324   52324   I   0.315     0.230     0.0        0.1340          0.0530   \n",
       "70295   70295   I   0.430     0.340     0.0        0.4060          0.2035   \n",
       "90295   90295   M   0.430     0.325     0.0        0.3335          0.1350   \n",
       "34067  124682   M   0.560     0.445     0.0        0.8725          0.3050   \n",
       "42004  132619   I   0.270     0.195     0.0        0.0840          0.0250   \n",
       "\n",
       "       Whole weight.2  Shell weight  Rings  \n",
       "7025           0.0245        0.3505    8.0  \n",
       "14208          0.0705        0.1050    8.0  \n",
       "32078          0.1550        0.1360    7.0  \n",
       "52324          0.0375        0.3505    7.0  \n",
       "70295          0.0960        0.1230    7.0  \n",
       "90295          0.0585        0.1050   10.0  \n",
       "34067          0.1900        0.3050    NaN  \n",
       "42004          0.0490        0.0310    NaN  "
      ]
     },
     "execution_count": 9,
     "metadata": {},
     "output_type": "execute_result"
    }
   ],
   "source": [
    "# Get all entries where Height is 0\n",
    "zero_height = df.query('Height == 0')\n",
    "zero_height"
   ]
  },
  {
   "cell_type": "code",
   "execution_count": 10,
   "id": "1c4f3737",
   "metadata": {
    "execution": {
     "iopub.execute_input": "2024-04-14T06:12:27.949221Z",
     "iopub.status.busy": "2024-04-14T06:12:27.948821Z",
     "iopub.status.idle": "2024-04-14T06:12:27.955717Z",
     "shell.execute_reply": "2024-04-14T06:12:27.954600Z"
    },
    "papermill": {
     "duration": 0.016283,
     "end_time": "2024-04-14T06:12:27.957830",
     "exception": false,
     "start_time": "2024-04-14T06:12:27.941547",
     "status": "completed"
    },
    "tags": []
   },
   "outputs": [
    {
     "data": {
      "text/plain": [
       "(8, 10)"
      ]
     },
     "execution_count": 10,
     "metadata": {},
     "output_type": "execute_result"
    }
   ],
   "source": [
    "zero_height.shape"
   ]
  },
  {
   "cell_type": "code",
   "execution_count": 11,
   "id": "e8d76d9b",
   "metadata": {
    "execution": {
     "iopub.execute_input": "2024-04-14T06:12:27.971779Z",
     "iopub.status.busy": "2024-04-14T06:12:27.971065Z",
     "iopub.status.idle": "2024-04-14T06:12:27.980302Z",
     "shell.execute_reply": "2024-04-14T06:12:27.979186Z"
    },
    "papermill": {
     "duration": 0.018533,
     "end_time": "2024-04-14T06:12:27.982446",
     "exception": false,
     "start_time": "2024-04-14T06:12:27.963913",
     "status": "completed"
    },
    "tags": []
   },
   "outputs": [
    {
     "name": "stdout",
     "output_type": "stream",
     "text": [
      "Mean Height: 0.13557886721491663\n",
      "Median Height: 0.14\n"
     ]
    }
   ],
   "source": [
    "# Get mean and median height for those entires\n",
    "mean_height = df['Height'].mean()\n",
    "median_height = df['Height'].median()\n",
    "\n",
    "print(\"Mean Height:\", mean_height)\n",
    "print(\"Median Height:\", median_height)"
   ]
  },
  {
   "cell_type": "markdown",
   "id": "2d0e7a30",
   "metadata": {
    "papermill": {
     "duration": 0.005967,
     "end_time": "2024-04-14T06:12:27.994689",
     "exception": false,
     "start_time": "2024-04-14T06:12:27.988722",
     "status": "completed"
    },
    "tags": []
   },
   "source": [
    "we can replace all the zero values with the median values."
   ]
  },
  {
   "cell_type": "code",
   "execution_count": 12,
   "id": "52a238ac",
   "metadata": {
    "execution": {
     "iopub.execute_input": "2024-04-14T06:12:28.008121Z",
     "iopub.status.busy": "2024-04-14T06:12:28.007729Z",
     "iopub.status.idle": "2024-04-14T06:12:28.014698Z",
     "shell.execute_reply": "2024-04-14T06:12:28.013587Z"
    },
    "papermill": {
     "duration": 0.016363,
     "end_time": "2024-04-14T06:12:28.016912",
     "exception": false,
     "start_time": "2024-04-14T06:12:28.000549",
     "status": "completed"
    },
    "tags": []
   },
   "outputs": [],
   "source": [
    "# Replace zero values with NaN\n",
    "df['Height'] = df['Height'].replace(0, median_height)"
   ]
  },
  {
   "cell_type": "code",
   "execution_count": 13,
   "id": "2a920d6b",
   "metadata": {
    "execution": {
     "iopub.execute_input": "2024-04-14T06:12:28.030667Z",
     "iopub.status.busy": "2024-04-14T06:12:28.030305Z",
     "iopub.status.idle": "2024-04-14T06:12:28.037568Z",
     "shell.execute_reply": "2024-04-14T06:12:28.036506Z"
    },
    "papermill": {
     "duration": 0.016897,
     "end_time": "2024-04-14T06:12:28.039888",
     "exception": false,
     "start_time": "2024-04-14T06:12:28.022991",
     "status": "completed"
    },
    "tags": []
   },
   "outputs": [
    {
     "data": {
      "text/plain": [
       "0.004"
      ]
     },
     "execution_count": 13,
     "metadata": {},
     "output_type": "execute_result"
    }
   ],
   "source": [
    "# Confirm zero values are replaced\n",
    "df['Height'].min()"
   ]
  },
  {
   "cell_type": "code",
   "execution_count": 14,
   "id": "05e6250f",
   "metadata": {
    "execution": {
     "iopub.execute_input": "2024-04-14T06:12:28.053921Z",
     "iopub.status.busy": "2024-04-14T06:12:28.053571Z",
     "iopub.status.idle": "2024-04-14T06:12:28.070324Z",
     "shell.execute_reply": "2024-04-14T06:12:28.068903Z"
    },
    "papermill": {
     "duration": 0.026381,
     "end_time": "2024-04-14T06:12:28.072418",
     "exception": false,
     "start_time": "2024-04-14T06:12:28.046037",
     "status": "completed"
    },
    "tags": []
   },
   "outputs": [
    {
     "name": "stdout",
     "output_type": "stream",
     "text": [
      "id                    0\n",
      "Sex                   0\n",
      "Length                0\n",
      "Diameter              0\n",
      "Height                0\n",
      "Whole weight          0\n",
      "Whole weight.1        0\n",
      "Whole weight.2        0\n",
      "Shell weight          0\n",
      "Rings             60411\n",
      "dtype: int64\n"
     ]
    }
   ],
   "source": [
    "# Check for missing values\n",
    "print(df.isnull().sum())"
   ]
  },
  {
   "cell_type": "code",
   "execution_count": null,
   "id": "601e2620",
   "metadata": {
    "papermill": {
     "duration": 0.00598,
     "end_time": "2024-04-14T06:12:28.084694",
     "exception": false,
     "start_time": "2024-04-14T06:12:28.078714",
     "status": "completed"
    },
    "tags": []
   },
   "outputs": [],
   "source": []
  }
 ],
 "metadata": {
  "kaggle": {
   "accelerator": "none",
   "dataSources": [
    {
     "databundleVersionId": 8096274,
     "sourceId": 72489,
     "sourceType": "competition"
    }
   ],
   "dockerImageVersionId": 30684,
   "isGpuEnabled": false,
   "isInternetEnabled": true,
   "language": "python",
   "sourceType": "notebook"
  },
  "kernelspec": {
   "display_name": "Python 3",
   "language": "python",
   "name": "python3"
  },
  "language_info": {
   "codemirror_mode": {
    "name": "ipython",
    "version": 3
   },
   "file_extension": ".py",
   "mimetype": "text/x-python",
   "name": "python",
   "nbconvert_exporter": "python",
   "pygments_lexer": "ipython3",
   "version": "3.10.13"
  },
  "papermill": {
   "default_parameters": {},
   "duration": 6.225709,
   "end_time": "2024-04-14T06:12:28.713021",
   "environment_variables": {},
   "exception": null,
   "input_path": "__notebook__.ipynb",
   "output_path": "__notebook__.ipynb",
   "parameters": {},
   "start_time": "2024-04-14T06:12:22.487312",
   "version": "2.5.0"
  }
 },
 "nbformat": 4,
 "nbformat_minor": 5
}
